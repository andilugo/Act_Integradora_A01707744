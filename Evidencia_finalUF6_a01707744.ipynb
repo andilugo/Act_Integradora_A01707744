{
  "nbformat": 4,
  "nbformat_minor": 0,
  "metadata": {
    "colab": {
      "provenance": [],
      "authorship_tag": "ABX9TyPi7Xl7W77X5VS3GwNRmH4o",
      "include_colab_link": true
    },
    "kernelspec": {
      "name": "python3",
      "display_name": "Python 3"
    },
    "language_info": {
      "name": "python"
    }
  },
  "cells": [
    {
      "cell_type": "markdown",
      "metadata": {
        "id": "view-in-github",
        "colab_type": "text"
      },
      "source": [
        "<a href=\"https://colab.research.google.com/github/andilugo/Act_integradora_A01707744/blob/main/Evidencia_finalUF6_a01707744.ipynb\" target=\"_parent\"><img src=\"https://colab.research.google.com/assets/colab-badge.svg\" alt=\"Open In Colab\"/></a>"
      ]
    },
    {
      "cell_type": "code",
      "execution_count": 8,
      "metadata": {
        "colab": {
          "base_uri": "https://localhost:8080/"
        },
        "id": "QxiVtQ5pE-sE",
        "outputId": "88a5ea53-a9b5-4f2f-c302-0d85e31d53a3"
      },
      "outputs": [
        {
          "output_type": "execute_result",
          "data": {
            "text/plain": [
              "DeltaGenerator()"
            ]
          },
          "metadata": {},
          "execution_count": 8
        }
      ],
      "source": [
        "import streamlit as st\n",
        "import pandas as pd\n",
        "\n",
        "\n",
        "st.title('Police Incident Reports from 2018 to 2020 in San Francisco')\n",
        "\n",
        "df = pd.read_csv(\"https://drive.google.com/file/d/1ioUp8979nNLh9h-CYVyJcRgAhxBhCLIm/view?usp=sharing\")\n",
        "\n",
        "st.markdown('The data shown below belongs to incident reports in the city of San Francisco, from the year 2018 to 2020, with details from each case such as date, day of the week, police district, neighborhood in which it happened, type of incident in category and subcategory, exact location and resolution.')\n",
        "\n",
        "mapa=pd.DataFrame()\n",
        "mapa=mapa.dropna()\n",
        "st.map(mapa.astype(int))"
      ]
    }
  ]
}